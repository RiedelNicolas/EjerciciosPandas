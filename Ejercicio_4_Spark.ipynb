{
  "nbformat": 4,
  "nbformat_minor": 0,
  "metadata": {
    "colab": {
      "name": "Ejercicio 4",
      "provenance": [],
      "collapsed_sections": [],
      "include_colab_link": true
    },
    "kernelspec": {
      "name": "python3",
      "display_name": "Python 3"
    }
  },
  "cells": [
    {
      "cell_type": "markdown",
      "metadata": {
        "id": "view-in-github",
        "colab_type": "text"
      },
      "source": [
        "<a href=\"https://colab.research.google.com/github/RiedelNicolas/EjerciciosPandas/blob/main/Ejercicio_4_Spark.ipynb\" target=\"_parent\"><img src=\"https://colab.research.google.com/assets/colab-badge.svg\" alt=\"Open In Colab\"/></a>"
      ]
    },
    {
      "cell_type": "code",
      "metadata": {
        "id": "HfwhQIanqUda"
      },
      "source": [
        "from pyspark.sql import *\n",
        "from pyspark.sql.functions import *\n",
        "from pyspark import SparkContext\n",
        "import pandas as pd"
      ],
      "execution_count": 3,
      "outputs": []
    },
    {
      "cell_type": "code",
      "metadata": {
        "id": "48iRdY6byOwP"
      },
      "source": [
        ""
      ],
      "execution_count": null,
      "outputs": []
    },
    {
      "cell_type": "code",
      "metadata": {
        "id": "kdmbIv5zqWEH"
      },
      "source": [
        "# create the Spark Session\n",
        "spark = SparkSession.builder.getOrCreate()\n",
        "\n",
        "# create the Spark Context\n",
        "sc = spark.sparkContext"
      ],
      "execution_count": 4,
      "outputs": []
    },
    {
      "cell_type": "markdown",
      "metadata": {
        "id": "6n8zh9JIq2k4"
      },
      "source": [
        "4- Se tiene un RDD con las coordenadas de rectángulos de la forma (x1,x2,y1,y2). Se pide\n",
        "programar en PySpark un programa que encuentre el rectángulo de superficie mínima que\n",
        "contiene al punto (w,z)"
      ]
    },
    {
      "cell_type": "code",
      "metadata": {
        "id": "bAvclHSlq3is"
      },
      "source": [
        "Coordenadas = [(2, 4, 2, 4),\n",
        " (10, 8, 4 , 8),\n",
        " (4, 12, 6, 12),\n",
        " (4, 16, 8, 16),\n",
        "(10, 20, 10, 20),\n",
        "(100, 20, 10, 20),\n",
        "(1, 20, 4, 20),\n",
        "(2, 24, 12, 24)]"
      ],
      "execution_count": 18,
      "outputs": []
    },
    {
      "cell_type": "code",
      "metadata": {
        "id": "_EpZW__kq6gj",
        "outputId": "8b1bd3ca-dc14-4fac-9d91-d86fea508894",
        "colab": {
          "base_uri": "https://localhost:8080/",
          "height": 153
        }
      },
      "source": [
        "cordenadas = sc.parallelize(Coordenadas, 8)\n",
        "cordenadas.collect()"
      ],
      "execution_count": 19,
      "outputs": [
        {
          "output_type": "execute_result",
          "data": {
            "text/plain": [
              "[(2, 4, 2, 4),\n",
              " (10, 8, 4, 8),\n",
              " (4, 12, 6, 12),\n",
              " (4, 16, 8, 16),\n",
              " (10, 20, 10, 20),\n",
              " (100, 20, 10, 20),\n",
              " (1, 20, 4, 20),\n",
              " (2, 24, 12, 24)]"
            ]
          },
          "metadata": {
            "tags": []
          },
          "execution_count": 19
        }
      ]
    },
    {
      "cell_type": "code",
      "metadata": {
        "id": "BtMQHCggw-ki"
      },
      "source": [
        "w =  10\n",
        "z =  10"
      ],
      "execution_count": 26,
      "outputs": []
    },
    {
      "cell_type": "code",
      "metadata": {
        "id": "xsLX1ABmsF90",
        "outputId": "32da6339-19f5-46b6-e1fb-a9cc12fa8d60",
        "colab": {
          "base_uri": "https://localhost:8080/",
          "height": 34
        }
      },
      "source": [
        "wea = cordenadas.filter(lambda x: (x[0] <= w) and (x[1] >= w) and (x[2]<= z )  and  (x[3] >= z) )\n",
        "wea.collect()"
      ],
      "execution_count": 51,
      "outputs": [
        {
          "output_type": "execute_result",
          "data": {
            "text/plain": [
              "[(4, 12, 6, 12), (4, 16, 8, 16), (10, 20, 10, 20), (1, 20, 4, 20)]"
            ]
          },
          "metadata": {
            "tags": []
          },
          "execution_count": 51
        }
      ]
    },
    {
      "cell_type": "code",
      "metadata": {
        "id": "HxmleQKgwcNZ",
        "outputId": "359dfa45-6ac1-4790-949b-92515a1c74b0",
        "colab": {
          "base_uri": "https://localhost:8080/",
          "height": 34
        }
      },
      "source": [
        "wea = wea.map(lambda x: ( (x[1]-x[0])  * (x[3] - x[2]) ) )\n",
        "wea.collect()"
      ],
      "execution_count": 52,
      "outputs": [
        {
          "output_type": "execute_result",
          "data": {
            "text/plain": [
              "[48, 96, 100, 304]"
            ]
          },
          "metadata": {
            "tags": []
          },
          "execution_count": 52
        }
      ]
    },
    {
      "cell_type": "code",
      "metadata": {
        "id": "eo9-rSN61Nsu",
        "outputId": "b6e569bb-79ea-4bcb-ecbf-bca6d73ca972",
        "colab": {
          "base_uri": "https://localhost:8080/",
          "height": 34
        }
      },
      "source": [
        "wea = wea.reduce(lambda a,b: a if a<b else b )\n",
        "wea"
      ],
      "execution_count": 53,
      "outputs": [
        {
          "output_type": "execute_result",
          "data": {
            "text/plain": [
              "48"
            ]
          },
          "metadata": {
            "tags": []
          },
          "execution_count": 53
        }
      ]
    }
  ]
}