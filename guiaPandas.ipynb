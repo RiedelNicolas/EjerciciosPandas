{
  "nbformat": 4,
  "nbformat_minor": 0,
  "metadata": {
    "colab": {
      "name": "guiaPandas.ipynb",
      "provenance": [],
      "collapsed_sections": [],
      "authorship_tag": "ABX9TyNA4S9vMBw6q2iUskMkMQQp",
      "include_colab_link": true
    },
    "kernelspec": {
      "name": "python3",
      "display_name": "Python 3"
    }
  },
  "cells": [
    {
      "cell_type": "markdown",
      "metadata": {
        "id": "view-in-github",
        "colab_type": "text"
      },
      "source": [
        "<a href=\"https://colab.research.google.com/github/RiedelNicolas/EjerciciosPandas/blob/main/guiaPandas.ipynb\" target=\"_parent\"><img src=\"https://colab.research.google.com/assets/colab-badge.svg\" alt=\"Open In Colab\"/></a>"
      ]
    },
    {
      "cell_type": "code",
      "metadata": {
        "id": "vvpUhcBXNu5x"
      },
      "source": [
        "import pandas as pd\n",
        "import numpy as np\n"
      ],
      "execution_count": 35,
      "outputs": []
    },
    {
      "cell_type": "markdown",
      "metadata": {
        "id": "fkwfPD1kPAYN"
      },
      "source": [
        "Guía 1: Pandas\n",
        "\n",
        "\n",
        "1- Dado el registro de notas de los alumnos de la forma (padrón, materia, nota, fecha). Se pide resolver utilizando Pandas:\n",
        "Cuál es el promedio general de notas.\n",
        "Cuál es la nota más alta y la nota más baja registrada durante el año 2019.\n",
        "Cuál es el padrón con mayor cantidad de materias aprobadas durante el último cuatrimestre.\n",
        "Cuál es la nota promedio por materia.\n",
        "Cuál es la nota promedio por padrón.\n",
        "\n"
      ]
    },
    {
      "cell_type": "code",
      "metadata": {
        "id": "MKNkDFSTPCUy"
      },
      "source": [
        "notas_alumnos = {\n",
        "        'padron': [1,2,3,4,5,6,7,8,9,10,4],\n",
        "        'materia': ['am2','algebra','f1','f2','algo1','algo2','algo3','orgacomp','orgadatos','proba','proba'],\n",
        "        'nota': [1,2,3,4,5,6,7,8,9,10,10],\n",
        "        'fecha': ['1-1-21','2-2-20','3-3-20','4-4-20','5-5-20','6-6-20','7-7-20','8-8-20','9-9-20','10-10-20','11-10-20'],\n",
        "}\n",
        "df_notas_alumnos = pd.DataFrame(notas_alumnos, columns = notas_alumnos.keys())"
      ],
      "execution_count": 36,
      "outputs": []
    },
    {
      "cell_type": "code",
      "metadata": {
        "id": "dnay4RfERtfo"
      },
      "source": [
        "df = pd.DataFrame(notas_alumnos)"
      ],
      "execution_count": 37,
      "outputs": []
    },
    {
      "cell_type": "code",
      "metadata": {
        "id": "EirbE-RTRmnM",
        "outputId": "6f6564e3-3e22-4dcf-f600-119641d65457",
        "colab": {
          "base_uri": "https://localhost:8080/",
          "height": 34
        }
      },
      "source": [
        "### Promedio general de notas\n",
        "df['nota'].mean()"
      ],
      "execution_count": 38,
      "outputs": [
        {
          "output_type": "execute_result",
          "data": {
            "text/plain": [
              "5.909090909090909"
            ]
          },
          "metadata": {
            "tags": []
          },
          "execution_count": 38
        }
      ]
    },
    {
      "cell_type": "code",
      "metadata": {
        "id": "QtX3I5HNSgwO"
      },
      "source": [
        "###nota mas alta y mas baja dell segundo cuatrimestre del 2020\n",
        "df['fecha'] = pd.to_datetime(df['fecha'])\n",
        "anio2020 = df[ df['fecha'].dt.year == 2020 ]"
      ],
      "execution_count": 39,
      "outputs": []
    },
    {
      "cell_type": "code",
      "metadata": {
        "id": "jTyxa0_RTg2X",
        "outputId": "6f0a4ccc-63d7-49c6-85f8-244794e9221c",
        "colab": {
          "base_uri": "https://localhost:8080/",
          "height": 51
        }
      },
      "source": [
        "print (anio2020['nota'].max() )\n",
        "print (anio2020['nota'].min() )"
      ],
      "execution_count": 40,
      "outputs": [
        {
          "output_type": "stream",
          "text": [
            "10\n",
            "2\n"
          ],
          "name": "stdout"
        }
      ]
    },
    {
      "cell_type": "code",
      "metadata": {
        "id": "j84QMyKhWswr"
      },
      "source": [
        " #Cuál es el padrón con mayor cantidad de materias aprobadas durante el último cuatrimestre\n",
        " aprobados = df [df['nota']>=4 ] #primero filtro\n",
        " padrones = aprobados.groupby('padron').agg({'nota':'count'})"
      ],
      "execution_count": 41,
      "outputs": []
    },
    {
      "cell_type": "code",
      "metadata": {
        "id": "uWd4SNLnYBWX",
        "outputId": "f4518cb9-3a88-409f-8170-01c1d0ce2ed6",
        "colab": {
          "base_uri": "https://localhost:8080/",
          "height": 297
        }
      },
      "source": [
        "padrones.rename(columns={'nota' :'cantidad_aprobadas'} )"
      ],
      "execution_count": 42,
      "outputs": [
        {
          "output_type": "execute_result",
          "data": {
            "text/html": [
              "<div>\n",
              "<style scoped>\n",
              "    .dataframe tbody tr th:only-of-type {\n",
              "        vertical-align: middle;\n",
              "    }\n",
              "\n",
              "    .dataframe tbody tr th {\n",
              "        vertical-align: top;\n",
              "    }\n",
              "\n",
              "    .dataframe thead th {\n",
              "        text-align: right;\n",
              "    }\n",
              "</style>\n",
              "<table border=\"1\" class=\"dataframe\">\n",
              "  <thead>\n",
              "    <tr style=\"text-align: right;\">\n",
              "      <th></th>\n",
              "      <th>cantidad_aprobadas</th>\n",
              "    </tr>\n",
              "    <tr>\n",
              "      <th>padron</th>\n",
              "      <th></th>\n",
              "    </tr>\n",
              "  </thead>\n",
              "  <tbody>\n",
              "    <tr>\n",
              "      <th>4</th>\n",
              "      <td>2</td>\n",
              "    </tr>\n",
              "    <tr>\n",
              "      <th>5</th>\n",
              "      <td>1</td>\n",
              "    </tr>\n",
              "    <tr>\n",
              "      <th>6</th>\n",
              "      <td>1</td>\n",
              "    </tr>\n",
              "    <tr>\n",
              "      <th>7</th>\n",
              "      <td>1</td>\n",
              "    </tr>\n",
              "    <tr>\n",
              "      <th>8</th>\n",
              "      <td>1</td>\n",
              "    </tr>\n",
              "    <tr>\n",
              "      <th>9</th>\n",
              "      <td>1</td>\n",
              "    </tr>\n",
              "    <tr>\n",
              "      <th>10</th>\n",
              "      <td>1</td>\n",
              "    </tr>\n",
              "  </tbody>\n",
              "</table>\n",
              "</div>"
            ],
            "text/plain": [
              "        cantidad_aprobadas\n",
              "padron                    \n",
              "4                        2\n",
              "5                        1\n",
              "6                        1\n",
              "7                        1\n",
              "8                        1\n",
              "9                        1\n",
              "10                       1"
            ]
          },
          "metadata": {
            "tags": []
          },
          "execution_count": 42
        }
      ]
    },
    {
      "cell_type": "code",
      "metadata": {
        "id": "eKjEMeGRY0lI",
        "outputId": "36c8ae0e-5007-43fa-8608-fa1bfb038b33",
        "colab": {
          "base_uri": "https://localhost:8080/",
          "height": 68
        }
      },
      "source": [
        "padrones['nota'].nlargest(1) #el que mas aprobo"
      ],
      "execution_count": 43,
      "outputs": [
        {
          "output_type": "execute_result",
          "data": {
            "text/plain": [
              "padron\n",
              "4    2\n",
              "Name: nota, dtype: int64"
            ]
          },
          "metadata": {
            "tags": []
          },
          "execution_count": 43
        }
      ]
    },
    {
      "cell_type": "markdown",
      "metadata": {
        "id": "cenoQDXZav6o"
      },
      "source": [
        "Promedio de notas por materias"
      ]
    },
    {
      "cell_type": "code",
      "metadata": {
        "id": "9MvW5cblaC-z"
      },
      "source": [
        " promedio = df.groupby('materia').agg({'nota':'mean'}).rename(columns={'nota' :'promedio'} )"
      ],
      "execution_count": 46,
      "outputs": []
    },
    {
      "cell_type": "code",
      "metadata": {
        "id": "GWCIytNiaTo8",
        "outputId": "b4eaabad-6bbf-4483-84e5-46138556eb48",
        "colab": {
          "base_uri": "https://localhost:8080/",
          "height": 390
        }
      },
      "source": [
        "promedio"
      ],
      "execution_count": 47,
      "outputs": [
        {
          "output_type": "execute_result",
          "data": {
            "text/html": [
              "<div>\n",
              "<style scoped>\n",
              "    .dataframe tbody tr th:only-of-type {\n",
              "        vertical-align: middle;\n",
              "    }\n",
              "\n",
              "    .dataframe tbody tr th {\n",
              "        vertical-align: top;\n",
              "    }\n",
              "\n",
              "    .dataframe thead th {\n",
              "        text-align: right;\n",
              "    }\n",
              "</style>\n",
              "<table border=\"1\" class=\"dataframe\">\n",
              "  <thead>\n",
              "    <tr style=\"text-align: right;\">\n",
              "      <th></th>\n",
              "      <th>promedio</th>\n",
              "    </tr>\n",
              "    <tr>\n",
              "      <th>materia</th>\n",
              "      <th></th>\n",
              "    </tr>\n",
              "  </thead>\n",
              "  <tbody>\n",
              "    <tr>\n",
              "      <th>algebra</th>\n",
              "      <td>2</td>\n",
              "    </tr>\n",
              "    <tr>\n",
              "      <th>algo1</th>\n",
              "      <td>5</td>\n",
              "    </tr>\n",
              "    <tr>\n",
              "      <th>algo2</th>\n",
              "      <td>6</td>\n",
              "    </tr>\n",
              "    <tr>\n",
              "      <th>algo3</th>\n",
              "      <td>7</td>\n",
              "    </tr>\n",
              "    <tr>\n",
              "      <th>am2</th>\n",
              "      <td>1</td>\n",
              "    </tr>\n",
              "    <tr>\n",
              "      <th>f1</th>\n",
              "      <td>3</td>\n",
              "    </tr>\n",
              "    <tr>\n",
              "      <th>f2</th>\n",
              "      <td>4</td>\n",
              "    </tr>\n",
              "    <tr>\n",
              "      <th>orgacomp</th>\n",
              "      <td>8</td>\n",
              "    </tr>\n",
              "    <tr>\n",
              "      <th>orgadatos</th>\n",
              "      <td>9</td>\n",
              "    </tr>\n",
              "    <tr>\n",
              "      <th>proba</th>\n",
              "      <td>10</td>\n",
              "    </tr>\n",
              "  </tbody>\n",
              "</table>\n",
              "</div>"
            ],
            "text/plain": [
              "           promedio\n",
              "materia            \n",
              "algebra           2\n",
              "algo1             5\n",
              "algo2             6\n",
              "algo3             7\n",
              "am2               1\n",
              "f1                3\n",
              "f2                4\n",
              "orgacomp          8\n",
              "orgadatos         9\n",
              "proba            10"
            ]
          },
          "metadata": {
            "tags": []
          },
          "execution_count": 47
        }
      ]
    },
    {
      "cell_type": "markdown",
      "metadata": {
        "id": "HlSX14Pga9Gc"
      },
      "source": [
        "Promedio de notas por padron"
      ]
    },
    {
      "cell_type": "code",
      "metadata": {
        "id": "zsRLdhAYbAzO",
        "outputId": "44b58f98-2e7b-4471-a98b-26a0d65384b0",
        "colab": {
          "base_uri": "https://localhost:8080/",
          "height": 390
        }
      },
      "source": [
        " promedio = df.groupby('padron').agg({'nota':'mean'}).rename(columns={'nota' :'promedio'} )\n",
        " promedio"
      ],
      "execution_count": 48,
      "outputs": [
        {
          "output_type": "execute_result",
          "data": {
            "text/html": [
              "<div>\n",
              "<style scoped>\n",
              "    .dataframe tbody tr th:only-of-type {\n",
              "        vertical-align: middle;\n",
              "    }\n",
              "\n",
              "    .dataframe tbody tr th {\n",
              "        vertical-align: top;\n",
              "    }\n",
              "\n",
              "    .dataframe thead th {\n",
              "        text-align: right;\n",
              "    }\n",
              "</style>\n",
              "<table border=\"1\" class=\"dataframe\">\n",
              "  <thead>\n",
              "    <tr style=\"text-align: right;\">\n",
              "      <th></th>\n",
              "      <th>promedio</th>\n",
              "    </tr>\n",
              "    <tr>\n",
              "      <th>padron</th>\n",
              "      <th></th>\n",
              "    </tr>\n",
              "  </thead>\n",
              "  <tbody>\n",
              "    <tr>\n",
              "      <th>1</th>\n",
              "      <td>1</td>\n",
              "    </tr>\n",
              "    <tr>\n",
              "      <th>2</th>\n",
              "      <td>2</td>\n",
              "    </tr>\n",
              "    <tr>\n",
              "      <th>3</th>\n",
              "      <td>3</td>\n",
              "    </tr>\n",
              "    <tr>\n",
              "      <th>4</th>\n",
              "      <td>7</td>\n",
              "    </tr>\n",
              "    <tr>\n",
              "      <th>5</th>\n",
              "      <td>5</td>\n",
              "    </tr>\n",
              "    <tr>\n",
              "      <th>6</th>\n",
              "      <td>6</td>\n",
              "    </tr>\n",
              "    <tr>\n",
              "      <th>7</th>\n",
              "      <td>7</td>\n",
              "    </tr>\n",
              "    <tr>\n",
              "      <th>8</th>\n",
              "      <td>8</td>\n",
              "    </tr>\n",
              "    <tr>\n",
              "      <th>9</th>\n",
              "      <td>9</td>\n",
              "    </tr>\n",
              "    <tr>\n",
              "      <th>10</th>\n",
              "      <td>10</td>\n",
              "    </tr>\n",
              "  </tbody>\n",
              "</table>\n",
              "</div>"
            ],
            "text/plain": [
              "        promedio\n",
              "padron          \n",
              "1              1\n",
              "2              2\n",
              "3              3\n",
              "4              7\n",
              "5              5\n",
              "6              6\n",
              "7              7\n",
              "8              8\n",
              "9              9\n",
              "10            10"
            ]
          },
          "metadata": {
            "tags": []
          },
          "execution_count": 48
        }
      ]
    }
  ]
}